{
 "cells": [
  {
   "cell_type": "code",
   "execution_count": 16,
   "metadata": {},
   "outputs": [
    {
     "name": "stdout",
     "output_type": "stream",
     "text": [
      "['sunny', 'warm', '?', 'strong', '?', '?']\n",
      "-----------\n",
      "[['sunny', '?', '?', '?', '?', '?'], ['?', 'warm', '?', '?', '?', '?']]\n",
      "-----------\n",
      "General hyp:\n",
      "[['sunny', '?', '?', '?', '?', '?'], ['?', 'warm', '?', '?', '?', '?']]\n",
      "specific hyp:\n",
      "['sunny', 'warm', '?', 'strong', '?', '?']\n"
     ]
    }
   ],
   "source": [
    "import pandas as pd\n",
    "import numpy as nm\n",
    "\n",
    "POSITIVE='yes'\n",
    "NEGATIVE='no'\n",
    "\n",
    "def finds(data):\n",
    "    (nr,nc)=data.shape\n",
    "    hyp=['0']*(nc-1)\n",
    "    for row in range (nr):\n",
    "        if data.iloc[row,-1]==POSITIVE:\n",
    "            for col in range (nc-1):\n",
    "                if hyp[col]=='0':\n",
    "                    hyp[col]=data.iloc[row,col]\n",
    "                elif hyp[col]!=data.iloc[row,col]:\n",
    "                    hyp[col]='?'\n",
    "    return hyp\n",
    "\n",
    "def apply(example,hyp):\n",
    "    nc=len(hyp)\n",
    "    for col in range(nc):\n",
    "        if hyp[col]!='?' and hyp[col]!=example.iloc[col]:\n",
    "            return NEGATIVE\n",
    "    return POSITIVE      \n",
    "\n",
    "def find_gen(spec_hyp,gen_hyp,example):\n",
    "    nc=len(spec_hyp)\n",
    "    gen_hyp_list=[]\n",
    "    for col in range(nc):\n",
    "        new_gen_hyp=gen_hyp.copy()\n",
    "        if spec_hyp[col]!='?':\n",
    "            new_gen_hyp[col]=spec_hyp[col]\n",
    "            if apply(example,new_gen_hyp)==NEGATIVE:\n",
    "                gen_hyp_list.append(new_gen_hyp)\n",
    "    print('-----------')\n",
    "    print(gen_hyp_list)\n",
    "    print('-----------')\n",
    "    return gen_hyp_list            \n",
    "\n",
    "\n",
    "def candidate(data):\n",
    "    (nr,nc)=data.shape\n",
    "    spec_hyp=finds(data)\n",
    "    gen_hyp_list=[['?']*(nc-1)]\n",
    "    ok='TRUE'\n",
    "    \n",
    "    for row in range (nr):\n",
    "        if data.iloc[row,-1]==NEGATIVE:\n",
    "            if apply(data.iloc[row],spec_hyp)==POSITIVE:\n",
    "                ok='FALSE'\n",
    "                break\n",
    "            new_gen_hyp_list=[]\n",
    "            for gen_hyp in gen_hyp_list:\n",
    "                if apply(data.iloc[row],gen_hyp)==POSITIVE:\n",
    "                    gen_hyp_list.remove(gen_hyp)\n",
    "                new_gen_hyp_list.extend(find_gen(spec_hyp,gen_hyp,data.iloc[row]))\n",
    "            gen_hyp_list.extend(new_gen_hyp_list)\n",
    "    if ok=='TRUE':\n",
    "        return gen_hyp_list,spec_hyp\n",
    "    else:\n",
    "        return [],[]\n",
    "        \n",
    "\n",
    "data= pd.read_csv('/home/ishaan/Downloads/ml.csv')\n",
    "lis=finds(data)\n",
    "print(lis)\n",
    "(g,s)=candidate(data)\n",
    "print('General hyp:')\n",
    "\n",
    "print(g)\n",
    "print('specific hyp:')\n",
    "print(s)"
   ]
  },
  {
   "cell_type": "code",
   "execution_count": null,
   "metadata": {},
   "outputs": [],
   "source": []
  },
  {
   "cell_type": "code",
   "execution_count": null,
   "metadata": {},
   "outputs": [],
   "source": []
  },
  {
   "cell_type": "code",
   "execution_count": null,
   "metadata": {},
   "outputs": [],
   "source": []
  }
 ],
 "metadata": {
  "kernelspec": {
   "display_name": "Python 3",
   "language": "python",
   "name": "python3"
  },
  "language_info": {
   "codemirror_mode": {
    "name": "ipython",
    "version": 3
   },
   "file_extension": ".py",
   "mimetype": "text/x-python",
   "name": "python",
   "nbconvert_exporter": "python",
   "pygments_lexer": "ipython3",
   "version": "3.6.5"
  }
 },
 "nbformat": 4,
 "nbformat_minor": 2
}
