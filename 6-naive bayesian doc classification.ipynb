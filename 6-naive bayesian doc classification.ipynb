{
 "cells": [
  {
   "cell_type": "code",
   "execution_count": 2,
   "metadata": {},
   "outputs": [
    {
     "name": "stdout",
     "output_type": "stream",
     "text": [
      "The dimensions of the dataset (18, 2)\n",
      "-------------------------------------------------------------------\n",
      "-------------------------------------------------------------------\n",
      "-------------------------------------------------------------------\n",
      "0                      I love this sandwich\n",
      "1                  This is an amazing place\n",
      "2        I feel very good about these beers\n",
      "3                      This is my best work\n",
      "4                      What an awesome view\n",
      "5             I do not like this restaurant\n",
      "6                  I am tired of this stuff\n",
      "7                   iI can't deal with this\n",
      "8                      He is my sworn enemy\n",
      "9                       My boss is horrible\n",
      "10                 This is an awesome place\n",
      "11    I do not like the taste of this juice\n",
      "12                          I love to dance\n",
      "13        I am sick and tired of this place\n",
      "14                     What a great holiday\n",
      "15             That is bad locality to stay\n",
      "16           We will have good fun tomorrow\n",
      "17         I went to my enemy's house today\n",
      "Name: message, dtype: object\n",
      "-------------------------------------------------------------------\n",
      "-------------------------------------------------------------------\n",
      "-------------------------------------------------------------------\n",
      "0     1\n",
      "1     1\n",
      "2     1\n",
      "3     1\n",
      "4     1\n",
      "5     0\n",
      "6     0\n",
      "7     0\n",
      "8     0\n",
      "9     0\n",
      "10    1\n",
      "11    0\n",
      "12    1\n",
      "13    0\n",
      "14    1\n",
      "15    0\n",
      "16    1\n",
      "17    0\n",
      "Name: labelnum, dtype: int64\n",
      "-------------------------------------------------------------------\n",
      "-------------------------------------------------------------------\n",
      "-------------------------------------------------------------------\n"
     ]
    }
   ],
   "source": [
    "from sklearn import metrics\n",
    "import pandas as pd\n",
    "\n",
    "msg=pd.read_csv('/home/ishaan/prog6.csv',names=['message','label'])\n",
    "print('The dimensions of the dataset',msg.shape)\n",
    "msg['labelnum']=msg.label.map({'pos':1,'neg':0})\n",
    "X=msg.message\n",
    "Y=msg.labelnum\n",
    "print(\"-------------------------------------------------------------------\")\n",
    "print(\"-------------------------------------------------------------------\")\n",
    "print(\"-------------------------------------------------------------------\")\n",
    "print(X)\n",
    "print(\"-------------------------------------------------------------------\")\n",
    "print(\"-------------------------------------------------------------------\")\n",
    "print(\"-------------------------------------------------------------------\")\n",
    "print(Y)\n",
    "print(\"-------------------------------------------------------------------\")\n",
    "print(\"-------------------------------------------------------------------\")\n",
    "print(\"-------------------------------------------------------------------\")"
   ]
  },
  {
   "cell_type": "code",
   "execution_count": 3,
   "metadata": {},
   "outputs": [
    {
     "name": "stdout",
     "output_type": "stream",
     "text": [
      "14                     What a great holiday\n",
      "6                  I am tired of this stuff\n",
      "9                       My boss is horrible\n",
      "12                          I love to dance\n",
      "17         I went to my enemy's house today\n",
      "7                   iI can't deal with this\n",
      "16           We will have good fun tomorrow\n",
      "2        I feel very good about these beers\n",
      "13        I am sick and tired of this place\n",
      "15             That is bad locality to stay\n",
      "3                      This is my best work\n",
      "11    I do not like the taste of this juice\n",
      "1                  This is an amazing place\n",
      "Name: message, dtype: object\n"
     ]
    }
   ],
   "source": [
    "\n",
    "#splitting the dataset into train and test data\n",
    "\n",
    "from sklearn.model_selection import train_test_split\n",
    "xtrain,xtest,ytrain,ytest=train_test_split(X,Y)\n",
    "print(xtrain)\n"
   ]
  },
  {
   "cell_type": "code",
   "execution_count": 4,
   "metadata": {},
   "outputs": [
    {
     "name": "stdout",
     "output_type": "stream",
     "text": [
      "5     0\n",
      "4     1\n",
      "0     1\n",
      "8     0\n",
      "10    1\n",
      "Name: labelnum, dtype: int64\n"
     ]
    }
   ],
   "source": [
    "print(ytest)"
   ]
  },
  {
   "cell_type": "code",
   "execution_count": 9,
   "metadata": {},
   "outputs": [
    {
     "name": "stdout",
     "output_type": "stream",
     "text": [
      "['about', 'am', 'amazing', 'an', 'and', 'bad', 'beers', 'best', 'boss', 'can', 'dance', 'deal', 'do', 'enemy', 'feel', 'fun', 'good', 'great', 'have', 'holiday', 'horrible', 'house', 'ii', 'is', 'juice', 'like', 'locality', 'love', 'my', 'not', 'of', 'place', 'sick', 'stay', 'stuff', 'taste', 'that', 'the', 'these', 'this', 'tired', 'to', 'today', 'tomorrow', 'very', 'we', 'went', 'what', 'will', 'with', 'work']\n",
      "    about  am  amazing  an  and  bad  beers  best  boss  can  ...   to  today  \\\n",
      "0       0   0        0   0    0    0      0     0     0    0  ...    0      0   \n",
      "1       0   1        0   0    0    0      0     0     0    0  ...    0      0   \n",
      "2       0   0        0   0    0    0      0     0     1    0  ...    0      0   \n",
      "3       0   0        0   0    0    0      0     0     0    0  ...    1      0   \n",
      "4       0   0        0   0    0    0      0     0     0    0  ...    1      1   \n",
      "5       0   0        0   0    0    0      0     0     0    1  ...    0      0   \n",
      "6       0   0        0   0    0    0      0     0     0    0  ...    0      0   \n",
      "7       1   0        0   0    0    0      1     0     0    0  ...    0      0   \n",
      "8       0   1        0   0    1    0      0     0     0    0  ...    0      0   \n",
      "9       0   0        0   0    0    1      0     0     0    0  ...    1      0   \n",
      "10      0   0        0   0    0    0      0     1     0    0  ...    0      0   \n",
      "11      0   0        0   0    0    0      0     0     0    0  ...    0      0   \n",
      "12      0   0        1   1    0    0      0     0     0    0  ...    0      0   \n",
      "\n",
      "    tomorrow  very  we  went  what  will  with  work  \n",
      "0          0     0   0     0     1     0     0     0  \n",
      "1          0     0   0     0     0     0     0     0  \n",
      "2          0     0   0     0     0     0     0     0  \n",
      "3          0     0   0     0     0     0     0     0  \n",
      "4          0     0   0     1     0     0     0     0  \n",
      "5          0     0   0     0     0     0     1     0  \n",
      "6          1     0   1     0     0     1     0     0  \n",
      "7          0     1   0     0     0     0     0     0  \n",
      "8          0     0   0     0     0     0     0     0  \n",
      "9          0     0   0     0     0     0     0     0  \n",
      "10         0     0   0     0     0     0     0     1  \n",
      "11         0     0   0     0     0     0     0     0  \n",
      "12         0     0   0     0     0     0     0     0  \n",
      "\n",
      "[13 rows x 51 columns]\n"
     ]
    }
   ],
   "source": [
    "\n",
    "#output of count vectoriser is a sparse matrix\n",
    "\n",
    "from sklearn.feature_extraction.text import CountVectorizer\n",
    "count_vect = CountVectorizer()\n",
    "xtrain_dtm = count_vect.fit_transform(xtrain)\n",
    "xtest_dtm = count_vect.transform(xtest)\n",
    "print(count_vect.get_feature_names())\n",
    "df=pd.DataFrame(xtrain_dtm.toarray(),columns=count_vect.get_feature_names())\n",
    "\n",
    "print(df)\n"
   ]
  },
  {
   "cell_type": "code",
   "execution_count": 10,
   "metadata": {},
   "outputs": [
    {
     "name": "stdout",
     "output_type": "stream",
     "text": [
      "Accuracy metrics\n",
      "Accuracy of the classifier is  1.0\n",
      "Confusion matrix\n",
      "[[2 0]\n",
      " [0 3]]\n",
      "Recall and precison \n",
      "1.0\n",
      "1.0\n"
     ]
    }
   ],
   "source": [
    "\n",
    "from sklearn.naive_bayes import MultinomialNB\n",
    "clf = MultinomialNB().fit(xtrain_dtm,ytrain)\n",
    "predicted = clf.predict(xtest_dtm)\n",
    "#printing accuracy metrics\n",
    "from sklearn import metrics\n",
    "print('Accuracy metrics')\n",
    "print('Accuracy of the classifier is ',metrics.accuracy_score(ytest,predicted))\n",
    "print('Confusion matrix')\n",
    "print(metrics.confusion_matrix(ytest,predicted))\n",
    "print('Recall and precison ')\n",
    "print(metrics.recall_score(ytest,predicted))\n",
    "print(metrics.precision_score(ytest,predicted))"
   ]
  },
  {
   "cell_type": "code",
   "execution_count": null,
   "metadata": {},
   "outputs": [],
   "source": []
  },
  {
   "cell_type": "code",
   "execution_count": null,
   "metadata": {},
   "outputs": [],
   "source": []
  }
 ],
 "metadata": {
  "kernelspec": {
   "display_name": "Python 3",
   "language": "python",
   "name": "python3"
  },
  "language_info": {
   "codemirror_mode": {
    "name": "ipython",
    "version": 3
   },
   "file_extension": ".py",
   "mimetype": "text/x-python",
   "name": "python",
   "nbconvert_exporter": "python",
   "pygments_lexer": "ipython3",
   "version": "3.6.5"
  }
 },
 "nbformat": 4,
 "nbformat_minor": 2
}
