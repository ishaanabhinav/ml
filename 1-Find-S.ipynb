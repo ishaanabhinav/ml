{
 "cells": [
  {
   "cell_type": "code",
   "execution_count": 5,
   "metadata": {},
   "outputs": [
    {
     "name": "stdout",
     "output_type": "stream",
     "text": [
      "     sky  temp humidity    wind water forcast play\n",
      "0  sunny  warm   normal  strong  warm    same  yes\n",
      "1  sunny  warm     high  strong  warm    same  yes\n",
      "2  rainy  cold     high  strong  warm  change   no\n",
      "3  sunny  warm     high  strong  cool  change  yes\n",
      "-------------------------------------------------------------------\n",
      "-------------------------------------------------------------------\n",
      "-------------------------------------------------------------------\n",
      "['sunny', 'warm', '?', 'strong', '?', '?']\n",
      "-------------------------------------------------------------------\n",
      "-------------------------------------------------------------------\n",
      "-------------------------------------------------------------------\n"
     ]
    }
   ],
   "source": [
    "import pandas as pd\n",
    "import numpy as nm\n",
    "\n",
    "POSITIVE = 'yes'\n",
    "NEGATIVE = 'no'\n",
    "\n",
    "def finds(data):\n",
    "    (nr,nc) = data.shape\n",
    "    hyp = ['0']* (nc-1)\n",
    "    for row in range (nr):\n",
    "        if data.iloc[row,-1]==POSITIVE:\n",
    "            for col in range(nc-1):\n",
    "                if hyp[col]=='0':\n",
    "                    hyp[col]=data.iloc[row,col]\n",
    "                elif hyp[col]!=data.iloc[row,col]:\n",
    "                    hyp[col]='?'\n",
    "    return hyp\n",
    "                    \n",
    "\n",
    "\n",
    "data = pd.read_csv('/home/ishaan/Downloads/ml.csv')\n",
    "print(data)\n",
    "print(\"-------------------------------------------------------------------\")\n",
    "print(\"-------------------------------------------------------------------\")\n",
    "print(\"-------------------------------------------------------------------\")\n",
    "lis = finds(data)\n",
    "print(lis)\n",
    "print(\"-------------------------------------------------------------------\")\n",
    "print(\"-------------------------------------------------------------------\")\n",
    "print(\"-------------------------------------------------------------------\")"
   ]
  },
  {
   "cell_type": "code",
   "execution_count": null,
   "metadata": {},
   "outputs": [],
   "source": []
  },
  {
   "cell_type": "code",
   "execution_count": null,
   "metadata": {},
   "outputs": [],
   "source": []
  }
 ],
 "metadata": {
  "kernelspec": {
   "display_name": "Python 3",
   "language": "python",
   "name": "python3"
  },
  "language_info": {
   "codemirror_mode": {
    "name": "ipython",
    "version": 3
   },
   "file_extension": ".py",
   "mimetype": "text/x-python",
   "name": "python",
   "nbconvert_exporter": "python",
   "pygments_lexer": "ipython3",
   "version": "3.6.5"
  }
 },
 "nbformat": 4,
 "nbformat_minor": 2
}
